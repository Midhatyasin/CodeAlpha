{
 "cells": [
  {
   "cell_type": "code",
   "execution_count": 1,
   "id": "b5d30a39-ce26-4f7f-b1fd-c5e1e15dfc55",
   "metadata": {},
   "outputs": [
    {
     "name": "stdout",
     "output_type": "stream",
     "text": [
      "Requirement already satisfied: pandas in c:\\users\\pakistan\\anaconda3\\lib\\site-packages (2.1.4)\n",
      "Requirement already satisfied: scipy in c:\\users\\pakistan\\anaconda3\\lib\\site-packages (1.11.4)\n",
      "Requirement already satisfied: statsmodels in c:\\users\\pakistan\\anaconda3\\lib\\site-packages (0.14.0)\n",
      "Requirement already satisfied: numpy<2,>=1.23.2 in c:\\users\\pakistan\\anaconda3\\lib\\site-packages (from pandas) (1.26.4)\n",
      "Requirement already satisfied: python-dateutil>=2.8.2 in c:\\users\\pakistan\\anaconda3\\lib\\site-packages (from pandas) (2.8.2)\n",
      "Requirement already satisfied: pytz>=2020.1 in c:\\users\\pakistan\\anaconda3\\lib\\site-packages (from pandas) (2023.3.post1)\n",
      "Requirement already satisfied: tzdata>=2022.1 in c:\\users\\pakistan\\anaconda3\\lib\\site-packages (from pandas) (2023.3)\n",
      "Requirement already satisfied: patsy>=0.5.2 in c:\\users\\pakistan\\anaconda3\\lib\\site-packages (from statsmodels) (0.5.3)\n",
      "Requirement already satisfied: packaging>=21.3 in c:\\users\\pakistan\\anaconda3\\lib\\site-packages (from statsmodels) (23.1)\n",
      "Requirement already satisfied: six in c:\\users\\pakistan\\anaconda3\\lib\\site-packages (from patsy>=0.5.2->statsmodels) (1.16.0)\n",
      "Note: you may need to restart the kernel to use updated packages.\n"
     ]
    }
   ],
   "source": [
    "pip install pandas scipy statsmodels"
   ]
  },
  {
   "cell_type": "code",
   "execution_count": 12,
   "id": "be68b312-c7e7-4b04-a29f-e78e253096c7",
   "metadata": {},
   "outputs": [],
   "source": [
    "# Import libraries\n",
    "import pandas as pd\n",
    "from scipy import stats\n",
    "import numpy as np\n",
    "from skimpy import skim\n",
    "import matplotlib.pyplot as plt\n",
    "import seaborn as sns\n"
   ]
  },
  {
   "cell_type": "code",
   "execution_count": 3,
   "id": "ca23dfdc-c883-49fc-99e4-8edf4e4995cb",
   "metadata": {},
   "outputs": [],
   "source": [
    "df = pd.read_csv(\"Social_Network_Ads.csv\")"
   ]
  },
  {
   "cell_type": "code",
   "execution_count": 4,
   "id": "a28652f6-337d-4f6b-8fec-63435506c68a",
   "metadata": {},
   "outputs": [
    {
     "data": {
      "text/html": [
       "<div>\n",
       "<style scoped>\n",
       "    .dataframe tbody tr th:only-of-type {\n",
       "        vertical-align: middle;\n",
       "    }\n",
       "\n",
       "    .dataframe tbody tr th {\n",
       "        vertical-align: top;\n",
       "    }\n",
       "\n",
       "    .dataframe thead th {\n",
       "        text-align: right;\n",
       "    }\n",
       "</style>\n",
       "<table border=\"1\" class=\"dataframe\">\n",
       "  <thead>\n",
       "    <tr style=\"text-align: right;\">\n",
       "      <th></th>\n",
       "      <th>User ID</th>\n",
       "      <th>Gender</th>\n",
       "      <th>Age</th>\n",
       "      <th>EstimatedSalary</th>\n",
       "      <th>Purchased</th>\n",
       "    </tr>\n",
       "  </thead>\n",
       "  <tbody>\n",
       "    <tr>\n",
       "      <th>0</th>\n",
       "      <td>15624510</td>\n",
       "      <td>Male</td>\n",
       "      <td>19</td>\n",
       "      <td>19000</td>\n",
       "      <td>0</td>\n",
       "    </tr>\n",
       "    <tr>\n",
       "      <th>1</th>\n",
       "      <td>15810944</td>\n",
       "      <td>Male</td>\n",
       "      <td>35</td>\n",
       "      <td>20000</td>\n",
       "      <td>0</td>\n",
       "    </tr>\n",
       "    <tr>\n",
       "      <th>2</th>\n",
       "      <td>15668575</td>\n",
       "      <td>Female</td>\n",
       "      <td>26</td>\n",
       "      <td>43000</td>\n",
       "      <td>0</td>\n",
       "    </tr>\n",
       "    <tr>\n",
       "      <th>3</th>\n",
       "      <td>15603246</td>\n",
       "      <td>Female</td>\n",
       "      <td>27</td>\n",
       "      <td>57000</td>\n",
       "      <td>0</td>\n",
       "    </tr>\n",
       "    <tr>\n",
       "      <th>4</th>\n",
       "      <td>15804002</td>\n",
       "      <td>Male</td>\n",
       "      <td>19</td>\n",
       "      <td>76000</td>\n",
       "      <td>0</td>\n",
       "    </tr>\n",
       "  </tbody>\n",
       "</table>\n",
       "</div>"
      ],
      "text/plain": [
       "    User ID  Gender  Age  EstimatedSalary  Purchased\n",
       "0  15624510    Male   19            19000          0\n",
       "1  15810944    Male   35            20000          0\n",
       "2  15668575  Female   26            43000          0\n",
       "3  15603246  Female   27            57000          0\n",
       "4  15804002    Male   19            76000          0"
      ]
     },
     "execution_count": 4,
     "metadata": {},
     "output_type": "execute_result"
    }
   ],
   "source": [
    "df.head()"
   ]
  },
  {
   "cell_type": "code",
   "execution_count": 5,
   "id": "a2bcfcd7-7d15-498a-9bdd-4795cba3c781",
   "metadata": {},
   "outputs": [
    {
     "data": {
      "text/html": [
       "<div>\n",
       "<style scoped>\n",
       "    .dataframe tbody tr th:only-of-type {\n",
       "        vertical-align: middle;\n",
       "    }\n",
       "\n",
       "    .dataframe tbody tr th {\n",
       "        vertical-align: top;\n",
       "    }\n",
       "\n",
       "    .dataframe thead th {\n",
       "        text-align: right;\n",
       "    }\n",
       "</style>\n",
       "<table border=\"1\" class=\"dataframe\">\n",
       "  <thead>\n",
       "    <tr style=\"text-align: right;\">\n",
       "      <th></th>\n",
       "      <th>User ID</th>\n",
       "      <th>Gender</th>\n",
       "      <th>Age</th>\n",
       "      <th>EstimatedSalary</th>\n",
       "      <th>Purchased</th>\n",
       "    </tr>\n",
       "  </thead>\n",
       "  <tbody>\n",
       "    <tr>\n",
       "      <th>395</th>\n",
       "      <td>15691863</td>\n",
       "      <td>Female</td>\n",
       "      <td>46</td>\n",
       "      <td>41000</td>\n",
       "      <td>1</td>\n",
       "    </tr>\n",
       "    <tr>\n",
       "      <th>396</th>\n",
       "      <td>15706071</td>\n",
       "      <td>Male</td>\n",
       "      <td>51</td>\n",
       "      <td>23000</td>\n",
       "      <td>1</td>\n",
       "    </tr>\n",
       "    <tr>\n",
       "      <th>397</th>\n",
       "      <td>15654296</td>\n",
       "      <td>Female</td>\n",
       "      <td>50</td>\n",
       "      <td>20000</td>\n",
       "      <td>1</td>\n",
       "    </tr>\n",
       "    <tr>\n",
       "      <th>398</th>\n",
       "      <td>15755018</td>\n",
       "      <td>Male</td>\n",
       "      <td>36</td>\n",
       "      <td>33000</td>\n",
       "      <td>0</td>\n",
       "    </tr>\n",
       "    <tr>\n",
       "      <th>399</th>\n",
       "      <td>15594041</td>\n",
       "      <td>Female</td>\n",
       "      <td>49</td>\n",
       "      <td>36000</td>\n",
       "      <td>1</td>\n",
       "    </tr>\n",
       "  </tbody>\n",
       "</table>\n",
       "</div>"
      ],
      "text/plain": [
       "      User ID  Gender  Age  EstimatedSalary  Purchased\n",
       "395  15691863  Female   46            41000          1\n",
       "396  15706071    Male   51            23000          1\n",
       "397  15654296  Female   50            20000          1\n",
       "398  15755018    Male   36            33000          0\n",
       "399  15594041  Female   49            36000          1"
      ]
     },
     "execution_count": 5,
     "metadata": {},
     "output_type": "execute_result"
    }
   ],
   "source": [
    "df.tail()"
   ]
  },
  {
   "cell_type": "markdown",
   "id": "bbd05dbe-2396-4194-ac17-70a5714e7711",
   "metadata": {},
   "source": [
    "# Preprocessing"
   ]
  },
  {
   "cell_type": "code",
   "execution_count": 8,
   "id": "087d045f-3284-4449-8a9b-48e614ef4123",
   "metadata": {},
   "outputs": [
    {
     "data": {
      "text/html": [
       "<pre style=\"white-space:pre;overflow-x:auto;line-height:normal;font-family:Menlo,'DejaVu Sans Mono',consolas,'Courier New',monospace\">╭──────────────────────────────────────────────── skimpy summary ─────────────────────────────────────────────────╮\n",
       "│ <span style=\"font-style: italic\">         Data Summary         </span> <span style=\"font-style: italic\">      Data Types       </span>                                                          │\n",
       "│ ┏━━━━━━━━━━━━━━━━━━━┳━━━━━━━━┓ ┏━━━━━━━━━━━━━┳━━━━━━━┓                                                          │\n",
       "│ ┃<span style=\"color: #008080; text-decoration-color: #008080; font-weight: bold\"> dataframe         </span>┃<span style=\"color: #008080; text-decoration-color: #008080; font-weight: bold\"> Values </span>┃ ┃<span style=\"color: #008080; text-decoration-color: #008080; font-weight: bold\"> Column Type </span>┃<span style=\"color: #008080; text-decoration-color: #008080; font-weight: bold\"> Count </span>┃                                                          │\n",
       "│ ┡━━━━━━━━━━━━━━━━━━━╇━━━━━━━━┩ ┡━━━━━━━━━━━━━╇━━━━━━━┩                                                          │\n",
       "│ │ Number of rows    │ 400    │ │ int32       │ 4     │                                                          │\n",
       "│ │ Number of columns │ 5      │ │ string      │ 1     │                                                          │\n",
       "│ └───────────────────┴────────┘ └─────────────┴───────┘                                                          │\n",
       "│ <span style=\"font-style: italic\">                                                    number                                                    </span>  │\n",
       "│ ┏━━━━━━━━━━━━┳━━━━┳━━━━━━┳━━━━━━━━━━┳━━━━━━━━┳━━━━━━━━━━┳━━━━━━━━━━┳━━━━━━━━━━┳━━━━━━━━━━┳━━━━━━━━━━┳━━━━━━━━┓  │\n",
       "│ ┃<span style=\"font-weight: bold\"> column_nam </span>┃<span style=\"font-weight: bold\">    </span>┃<span style=\"font-weight: bold\">      </span>┃<span style=\"font-weight: bold\">          </span>┃<span style=\"font-weight: bold\">        </span>┃<span style=\"font-weight: bold\">          </span>┃<span style=\"font-weight: bold\">          </span>┃<span style=\"font-weight: bold\">          </span>┃<span style=\"font-weight: bold\">          </span>┃<span style=\"font-weight: bold\">          </span>┃<span style=\"font-weight: bold\">        </span>┃  │\n",
       "│ ┃<span style=\"font-weight: bold\"> e          </span>┃<span style=\"font-weight: bold\"> NA </span>┃<span style=\"font-weight: bold\"> NA % </span>┃<span style=\"font-weight: bold\"> mean     </span>┃<span style=\"font-weight: bold\"> sd     </span>┃<span style=\"font-weight: bold\"> p0       </span>┃<span style=\"font-weight: bold\"> p25      </span>┃<span style=\"font-weight: bold\"> p50      </span>┃<span style=\"font-weight: bold\"> p75      </span>┃<span style=\"font-weight: bold\"> p100     </span>┃<span style=\"font-weight: bold\"> hist   </span>┃  │\n",
       "│ ┡━━━━━━━━━━━━╇━━━━╇━━━━━━╇━━━━━━━━━━╇━━━━━━━━╇━━━━━━━━━━╇━━━━━━━━━━╇━━━━━━━━━━╇━━━━━━━━━━╇━━━━━━━━━━╇━━━━━━━━┩  │\n",
       "│ │ <span style=\"color: #af87ff; text-decoration-color: #af87ff\">User ID   </span> │ <span style=\"color: #008080; text-decoration-color: #008080\"> 0</span> │ <span style=\"color: #008080; text-decoration-color: #008080\">   0</span> │ <span style=\"color: #008080; text-decoration-color: #008080\">15690000</span> │ <span style=\"color: #008080; text-decoration-color: #008080\"> 71660</span> │ <span style=\"color: #008080; text-decoration-color: #008080\">15570000</span> │ <span style=\"color: #008080; text-decoration-color: #008080\">15630000</span> │ <span style=\"color: #008080; text-decoration-color: #008080\">15690000</span> │ <span style=\"color: #008080; text-decoration-color: #008080\">15750000</span> │ <span style=\"color: #008080; text-decoration-color: #008080\">15820000</span> │ <span style=\"color: #008000; text-decoration-color: #008000\">▇▆▇▇▇▇</span> │  │\n",
       "│ │ <span style=\"color: #af87ff; text-decoration-color: #af87ff\">Age       </span> │ <span style=\"color: #008080; text-decoration-color: #008080\"> 0</span> │ <span style=\"color: #008080; text-decoration-color: #008080\">   0</span> │ <span style=\"color: #008080; text-decoration-color: #008080\">   37.66</span> │ <span style=\"color: #008080; text-decoration-color: #008080\"> 10.48</span> │ <span style=\"color: #008080; text-decoration-color: #008080\">      18</span> │ <span style=\"color: #008080; text-decoration-color: #008080\">   29.75</span> │ <span style=\"color: #008080; text-decoration-color: #008080\">      37</span> │ <span style=\"color: #008080; text-decoration-color: #008080\">      46</span> │ <span style=\"color: #008080; text-decoration-color: #008080\">      60</span> │ <span style=\"color: #008000; text-decoration-color: #008000\">▃▆▇▆▅▃</span> │  │\n",
       "│ │ <span style=\"color: #af87ff; text-decoration-color: #af87ff\">EstimatedS</span> │ <span style=\"color: #008080; text-decoration-color: #008080\"> 0</span> │ <span style=\"color: #008080; text-decoration-color: #008080\">   0</span> │ <span style=\"color: #008080; text-decoration-color: #008080\">   69740</span> │ <span style=\"color: #008080; text-decoration-color: #008080\"> 34100</span> │ <span style=\"color: #008080; text-decoration-color: #008080\">   15000</span> │ <span style=\"color: #008080; text-decoration-color: #008080\">   43000</span> │ <span style=\"color: #008080; text-decoration-color: #008080\">   70000</span> │ <span style=\"color: #008080; text-decoration-color: #008080\">   88000</span> │ <span style=\"color: #008080; text-decoration-color: #008080\">  150000</span> │ <span style=\"color: #008000; text-decoration-color: #008000\">▆▆▇▃▂▂</span> │  │\n",
       "│ │ <span style=\"color: #af87ff; text-decoration-color: #af87ff\">alary     </span> │    │      │          │        │          │          │          │          │          │        │  │\n",
       "│ │ <span style=\"color: #af87ff; text-decoration-color: #af87ff\">Purchased </span> │ <span style=\"color: #008080; text-decoration-color: #008080\"> 0</span> │ <span style=\"color: #008080; text-decoration-color: #008080\">   0</span> │ <span style=\"color: #008080; text-decoration-color: #008080\">  0.3575</span> │ <span style=\"color: #008080; text-decoration-color: #008080\">0.4799</span> │ <span style=\"color: #008080; text-decoration-color: #008080\">       0</span> │ <span style=\"color: #008080; text-decoration-color: #008080\">       0</span> │ <span style=\"color: #008080; text-decoration-color: #008080\">       0</span> │ <span style=\"color: #008080; text-decoration-color: #008080\">       1</span> │ <span style=\"color: #008080; text-decoration-color: #008080\">       1</span> │ <span style=\"color: #008000; text-decoration-color: #008000\">▇    ▅</span> │  │\n",
       "│ └────────────┴────┴──────┴──────────┴────────┴──────────┴──────────┴──────────┴──────────┴──────────┴────────┘  │\n",
       "│ <span style=\"font-style: italic\">                                                    string                                                    </span>  │\n",
       "│ ┏━━━━━━━━━━━━━━━━━━━━━━━━━━━┳━━━━━━━━━┳━━━━━━━━━━━━┳━━━━━━━━━━━━━━━━━━━━━━━━━━━━━━┳━━━━━━━━━━━━━━━━━━━━━━━━━━┓  │\n",
       "│ ┃<span style=\"font-weight: bold\"> column_name               </span>┃<span style=\"font-weight: bold\"> NA      </span>┃<span style=\"font-weight: bold\"> NA %       </span>┃<span style=\"font-weight: bold\"> words per row                </span>┃<span style=\"font-weight: bold\"> total words              </span>┃  │\n",
       "│ ┡━━━━━━━━━━━━━━━━━━━━━━━━━━━╇━━━━━━━━━╇━━━━━━━━━━━━╇━━━━━━━━━━━━━━━━━━━━━━━━━━━━━━╇━━━━━━━━━━━━━━━━━━━━━━━━━━┩  │\n",
       "│ │ <span style=\"color: #af87ff; text-decoration-color: #af87ff\">Gender                   </span> │ <span style=\"color: #008080; text-decoration-color: #008080\">      0</span> │ <span style=\"color: #008080; text-decoration-color: #008080\">         0</span> │ <span style=\"color: #008080; text-decoration-color: #008080\">                           1</span> │ <span style=\"color: #008080; text-decoration-color: #008080\">                     400</span> │  │\n",
       "│ └───────────────────────────┴─────────┴────────────┴──────────────────────────────┴──────────────────────────┘  │\n",
       "╰────────────────────────────────────────────────────── End ──────────────────────────────────────────────────────╯\n",
       "</pre>\n"
      ],
      "text/plain": [
       "╭──────────────────────────────────────────────── skimpy summary ─────────────────────────────────────────────────╮\n",
       "│ \u001b[3m         Data Summary         \u001b[0m \u001b[3m      Data Types       \u001b[0m                                                          │\n",
       "│ ┏━━━━━━━━━━━━━━━━━━━┳━━━━━━━━┓ ┏━━━━━━━━━━━━━┳━━━━━━━┓                                                          │\n",
       "│ ┃\u001b[1;36m \u001b[0m\u001b[1;36mdataframe        \u001b[0m\u001b[1;36m \u001b[0m┃\u001b[1;36m \u001b[0m\u001b[1;36mValues\u001b[0m\u001b[1;36m \u001b[0m┃ ┃\u001b[1;36m \u001b[0m\u001b[1;36mColumn Type\u001b[0m\u001b[1;36m \u001b[0m┃\u001b[1;36m \u001b[0m\u001b[1;36mCount\u001b[0m\u001b[1;36m \u001b[0m┃                                                          │\n",
       "│ ┡━━━━━━━━━━━━━━━━━━━╇━━━━━━━━┩ ┡━━━━━━━━━━━━━╇━━━━━━━┩                                                          │\n",
       "│ │ Number of rows    │ 400    │ │ int32       │ 4     │                                                          │\n",
       "│ │ Number of columns │ 5      │ │ string      │ 1     │                                                          │\n",
       "│ └───────────────────┴────────┘ └─────────────┴───────┘                                                          │\n",
       "│ \u001b[3m                                                    number                                                    \u001b[0m  │\n",
       "│ ┏━━━━━━━━━━━━┳━━━━┳━━━━━━┳━━━━━━━━━━┳━━━━━━━━┳━━━━━━━━━━┳━━━━━━━━━━┳━━━━━━━━━━┳━━━━━━━━━━┳━━━━━━━━━━┳━━━━━━━━┓  │\n",
       "│ ┃\u001b[1m \u001b[0m\u001b[1mcolumn_nam\u001b[0m\u001b[1m \u001b[0m┃\u001b[1m    \u001b[0m┃\u001b[1m      \u001b[0m┃\u001b[1m          \u001b[0m┃\u001b[1m        \u001b[0m┃\u001b[1m          \u001b[0m┃\u001b[1m          \u001b[0m┃\u001b[1m          \u001b[0m┃\u001b[1m          \u001b[0m┃\u001b[1m          \u001b[0m┃\u001b[1m        \u001b[0m┃  │\n",
       "│ ┃\u001b[1m \u001b[0m\u001b[1me         \u001b[0m\u001b[1m \u001b[0m┃\u001b[1m \u001b[0m\u001b[1mNA\u001b[0m\u001b[1m \u001b[0m┃\u001b[1m \u001b[0m\u001b[1mNA %\u001b[0m\u001b[1m \u001b[0m┃\u001b[1m \u001b[0m\u001b[1mmean    \u001b[0m\u001b[1m \u001b[0m┃\u001b[1m \u001b[0m\u001b[1msd    \u001b[0m\u001b[1m \u001b[0m┃\u001b[1m \u001b[0m\u001b[1mp0      \u001b[0m\u001b[1m \u001b[0m┃\u001b[1m \u001b[0m\u001b[1mp25     \u001b[0m\u001b[1m \u001b[0m┃\u001b[1m \u001b[0m\u001b[1mp50     \u001b[0m\u001b[1m \u001b[0m┃\u001b[1m \u001b[0m\u001b[1mp75     \u001b[0m\u001b[1m \u001b[0m┃\u001b[1m \u001b[0m\u001b[1mp100    \u001b[0m\u001b[1m \u001b[0m┃\u001b[1m \u001b[0m\u001b[1mhist  \u001b[0m\u001b[1m \u001b[0m┃  │\n",
       "│ ┡━━━━━━━━━━━━╇━━━━╇━━━━━━╇━━━━━━━━━━╇━━━━━━━━╇━━━━━━━━━━╇━━━━━━━━━━╇━━━━━━━━━━╇━━━━━━━━━━╇━━━━━━━━━━╇━━━━━━━━┩  │\n",
       "│ │ \u001b[38;5;141mUser ID   \u001b[0m │ \u001b[36m 0\u001b[0m │ \u001b[36m   0\u001b[0m │ \u001b[36m15690000\u001b[0m │ \u001b[36m 71660\u001b[0m │ \u001b[36m15570000\u001b[0m │ \u001b[36m15630000\u001b[0m │ \u001b[36m15690000\u001b[0m │ \u001b[36m15750000\u001b[0m │ \u001b[36m15820000\u001b[0m │ \u001b[32m▇▆▇▇▇▇\u001b[0m │  │\n",
       "│ │ \u001b[38;5;141mAge       \u001b[0m │ \u001b[36m 0\u001b[0m │ \u001b[36m   0\u001b[0m │ \u001b[36m   37.66\u001b[0m │ \u001b[36m 10.48\u001b[0m │ \u001b[36m      18\u001b[0m │ \u001b[36m   29.75\u001b[0m │ \u001b[36m      37\u001b[0m │ \u001b[36m      46\u001b[0m │ \u001b[36m      60\u001b[0m │ \u001b[32m▃▆▇▆▅▃\u001b[0m │  │\n",
       "│ │ \u001b[38;5;141mEstimatedS\u001b[0m │ \u001b[36m 0\u001b[0m │ \u001b[36m   0\u001b[0m │ \u001b[36m   69740\u001b[0m │ \u001b[36m 34100\u001b[0m │ \u001b[36m   15000\u001b[0m │ \u001b[36m   43000\u001b[0m │ \u001b[36m   70000\u001b[0m │ \u001b[36m   88000\u001b[0m │ \u001b[36m  150000\u001b[0m │ \u001b[32m▆▆▇▃▂▂\u001b[0m │  │\n",
       "│ │ \u001b[38;5;141malary     \u001b[0m │    │      │          │        │          │          │          │          │          │        │  │\n",
       "│ │ \u001b[38;5;141mPurchased \u001b[0m │ \u001b[36m 0\u001b[0m │ \u001b[36m   0\u001b[0m │ \u001b[36m  0.3575\u001b[0m │ \u001b[36m0.4799\u001b[0m │ \u001b[36m       0\u001b[0m │ \u001b[36m       0\u001b[0m │ \u001b[36m       0\u001b[0m │ \u001b[36m       1\u001b[0m │ \u001b[36m       1\u001b[0m │ \u001b[32m▇    ▅\u001b[0m │  │\n",
       "│ └────────────┴────┴──────┴──────────┴────────┴──────────┴──────────┴──────────┴──────────┴──────────┴────────┘  │\n",
       "│ \u001b[3m                                                    string                                                    \u001b[0m  │\n",
       "│ ┏━━━━━━━━━━━━━━━━━━━━━━━━━━━┳━━━━━━━━━┳━━━━━━━━━━━━┳━━━━━━━━━━━━━━━━━━━━━━━━━━━━━━┳━━━━━━━━━━━━━━━━━━━━━━━━━━┓  │\n",
       "│ ┃\u001b[1m \u001b[0m\u001b[1mcolumn_name              \u001b[0m\u001b[1m \u001b[0m┃\u001b[1m \u001b[0m\u001b[1mNA     \u001b[0m\u001b[1m \u001b[0m┃\u001b[1m \u001b[0m\u001b[1mNA %      \u001b[0m\u001b[1m \u001b[0m┃\u001b[1m \u001b[0m\u001b[1mwords per row               \u001b[0m\u001b[1m \u001b[0m┃\u001b[1m \u001b[0m\u001b[1mtotal words             \u001b[0m\u001b[1m \u001b[0m┃  │\n",
       "│ ┡━━━━━━━━━━━━━━━━━━━━━━━━━━━╇━━━━━━━━━╇━━━━━━━━━━━━╇━━━━━━━━━━━━━━━━━━━━━━━━━━━━━━╇━━━━━━━━━━━━━━━━━━━━━━━━━━┩  │\n",
       "│ │ \u001b[38;5;141mGender                   \u001b[0m │ \u001b[36m      0\u001b[0m │ \u001b[36m         0\u001b[0m │ \u001b[36m                           1\u001b[0m │ \u001b[36m                     400\u001b[0m │  │\n",
       "│ └───────────────────────────┴─────────┴────────────┴──────────────────────────────┴──────────────────────────┘  │\n",
       "╰────────────────────────────────────────────────────── End ──────────────────────────────────────────────────────╯\n"
      ]
     },
     "metadata": {},
     "output_type": "display_data"
    }
   ],
   "source": [
    "skim(df)"
   ]
  },
  {
   "cell_type": "code",
   "execution_count": 9,
   "id": "7a362322-9e3f-42b7-bf14-74caccc4df50",
   "metadata": {},
   "outputs": [
    {
     "data": {
      "text/plain": [
       "(400, 5)"
      ]
     },
     "execution_count": 9,
     "metadata": {},
     "output_type": "execute_result"
    }
   ],
   "source": [
    "df.shape"
   ]
  },
  {
   "cell_type": "code",
   "execution_count": 10,
   "id": "88125c3a-1d8f-48ad-b75a-6fbc68267bb5",
   "metadata": {},
   "outputs": [
    {
     "data": {
      "text/html": [
       "<div>\n",
       "<style scoped>\n",
       "    .dataframe tbody tr th:only-of-type {\n",
       "        vertical-align: middle;\n",
       "    }\n",
       "\n",
       "    .dataframe tbody tr th {\n",
       "        vertical-align: top;\n",
       "    }\n",
       "\n",
       "    .dataframe thead th {\n",
       "        text-align: right;\n",
       "    }\n",
       "</style>\n",
       "<table border=\"1\" class=\"dataframe\">\n",
       "  <thead>\n",
       "    <tr style=\"text-align: right;\">\n",
       "      <th></th>\n",
       "      <th>User ID</th>\n",
       "      <th>Age</th>\n",
       "      <th>EstimatedSalary</th>\n",
       "      <th>Purchased</th>\n",
       "    </tr>\n",
       "  </thead>\n",
       "  <tbody>\n",
       "    <tr>\n",
       "      <th>count</th>\n",
       "      <td>4.000000e+02</td>\n",
       "      <td>400.000000</td>\n",
       "      <td>400.000000</td>\n",
       "      <td>400.000000</td>\n",
       "    </tr>\n",
       "    <tr>\n",
       "      <th>mean</th>\n",
       "      <td>1.569154e+07</td>\n",
       "      <td>37.655000</td>\n",
       "      <td>69742.500000</td>\n",
       "      <td>0.357500</td>\n",
       "    </tr>\n",
       "    <tr>\n",
       "      <th>std</th>\n",
       "      <td>7.165832e+04</td>\n",
       "      <td>10.482877</td>\n",
       "      <td>34096.960282</td>\n",
       "      <td>0.479864</td>\n",
       "    </tr>\n",
       "    <tr>\n",
       "      <th>min</th>\n",
       "      <td>1.556669e+07</td>\n",
       "      <td>18.000000</td>\n",
       "      <td>15000.000000</td>\n",
       "      <td>0.000000</td>\n",
       "    </tr>\n",
       "    <tr>\n",
       "      <th>25%</th>\n",
       "      <td>1.562676e+07</td>\n",
       "      <td>29.750000</td>\n",
       "      <td>43000.000000</td>\n",
       "      <td>0.000000</td>\n",
       "    </tr>\n",
       "    <tr>\n",
       "      <th>50%</th>\n",
       "      <td>1.569434e+07</td>\n",
       "      <td>37.000000</td>\n",
       "      <td>70000.000000</td>\n",
       "      <td>0.000000</td>\n",
       "    </tr>\n",
       "    <tr>\n",
       "      <th>75%</th>\n",
       "      <td>1.575036e+07</td>\n",
       "      <td>46.000000</td>\n",
       "      <td>88000.000000</td>\n",
       "      <td>1.000000</td>\n",
       "    </tr>\n",
       "    <tr>\n",
       "      <th>max</th>\n",
       "      <td>1.581524e+07</td>\n",
       "      <td>60.000000</td>\n",
       "      <td>150000.000000</td>\n",
       "      <td>1.000000</td>\n",
       "    </tr>\n",
       "  </tbody>\n",
       "</table>\n",
       "</div>"
      ],
      "text/plain": [
       "            User ID         Age  EstimatedSalary   Purchased\n",
       "count  4.000000e+02  400.000000       400.000000  400.000000\n",
       "mean   1.569154e+07   37.655000     69742.500000    0.357500\n",
       "std    7.165832e+04   10.482877     34096.960282    0.479864\n",
       "min    1.556669e+07   18.000000     15000.000000    0.000000\n",
       "25%    1.562676e+07   29.750000     43000.000000    0.000000\n",
       "50%    1.569434e+07   37.000000     70000.000000    0.000000\n",
       "75%    1.575036e+07   46.000000     88000.000000    1.000000\n",
       "max    1.581524e+07   60.000000    150000.000000    1.000000"
      ]
     },
     "execution_count": 10,
     "metadata": {},
     "output_type": "execute_result"
    }
   ],
   "source": [
    "df.describe()"
   ]
  },
  {
   "cell_type": "code",
   "execution_count": 11,
   "id": "8c69ee7b-fb71-4991-ad55-2cdd163f88a0",
   "metadata": {},
   "outputs": [
    {
     "data": {
      "text/plain": [
       "User ID            0\n",
       "Gender             0\n",
       "Age                0\n",
       "EstimatedSalary    0\n",
       "Purchased          0\n",
       "dtype: int64"
      ]
     },
     "execution_count": 11,
     "metadata": {},
     "output_type": "execute_result"
    }
   ],
   "source": [
    "df.isnull().sum()"
   ]
  },
  {
   "cell_type": "markdown",
   "id": "54616394-6407-4c64-a974-dfd3ea8d2742",
   "metadata": {},
   "source": [
    "# Exploratort Data Analysis(EDA)"
   ]
  },
  {
   "cell_type": "code",
   "execution_count": 14,
   "id": "453fd0d6-63e6-4a89-a753-41fad894ccb4",
   "metadata": {},
   "outputs": [
    {
     "name": "stderr",
     "output_type": "stream",
     "text": [
      "C:\\Users\\Pakistan\\anaconda3\\Lib\\site-packages\\seaborn\\_oldcore.py:1119: FutureWarning: use_inf_as_na option is deprecated and will be removed in a future version. Convert inf values to NaN before operating instead.\n",
      "  with pd.option_context('mode.use_inf_as_na', True):\n"
     ]
    },
    {
     "data": {
      "text/plain": [
       "<Axes: xlabel='Gender', ylabel='Count'>"
      ]
     },
     "execution_count": 14,
     "metadata": {},
     "output_type": "execute_result"
    },
    {
     "data": {
      "image/png": "[encoded data removed]",
      "text/plain": [
       "<Figure size 640x480 with 1 Axes>"
      ]
     },
     "metadata": {},
     "output_type": "display_data"
    }
   ],
   "source": [
    "sns.histplot(df[\"Gender\"])"
   ]
  },
  {
   "cell_type": "code",
   "execution_count": 19,
   "id": "ddf25783-21ee-4cc5-8daf-110a1fe7c73b",
   "metadata": {},
   "outputs": [
    {
     "name": "stderr",
     "output_type": "stream",
     "text": [
      "C:\\Users\\Pakistan\\anaconda3\\Lib\\site-packages\\seaborn\\_oldcore.py:1119: FutureWarning: use_inf_as_na option is deprecated and will be removed in a future version. Convert inf values to NaN before operating instead.\n",
      "  with pd.option_context('mode.use_inf_as_na', True):\n"
     ]
    },
    {
     "data": {
      "image/png": "[encoded data removed]",
      "text/plain": [
       "<Figure size 640x480 with 1 Axes>"
      ]
     },
     "metadata": {},
     "output_type": "display_data"
    }
   ],
   "source": [
    "# Visualize distributions of numerical variables\n",
    "sns.histplot(df['Age'], kde=True, color='blue')\n",
    "plt.title('Age Distribution')\n",
    "plt.show()"
   ]
  },
  {
   "cell_type": "code",
   "execution_count": 20,
   "id": "96251a81-4ac1-4deb-8bc8-f700c6785347",
   "metadata": {},
   "outputs": [
    {
     "data": {
      "image/png": "[encoded data removed]",
      "text/plain": [
       "<Figure size 640x480 with 1 Axes>"
      ]
     },
     "metadata": {},
     "output_type": "display_data"
    }
   ],
   "source": [
    "sns.countplot(x='Purchased', data=df)\n",
    "plt.title('Purchased Distribution')\n",
    "plt.show()"
   ]
  },
  {
   "cell_type": "code",
   "execution_count": 21,
   "id": "b87c4cf2-f9c3-41db-99b4-9370c70bfe8a",
   "metadata": {},
   "outputs": [
    {
     "data": {
      "image/png": "[encoded data removed]",
      "text/plain": [
       "<Figure size 640x480 with 1 Axes>"
      ]
     },
     "metadata": {},
     "output_type": "display_data"
    }
   ],
   "source": [
    "#Visualize relationships\n",
    "sns.boxplot(x='Gender', y='Age', data=df)\n",
    "plt.title('Age vs Gender')\n",
    "plt.show()"
   ]
  },
  {
   "cell_type": "code",
   "execution_count": 22,
   "id": "105d91f1-d326-4c03-97a8-a365aa8e0475",
   "metadata": {},
   "outputs": [
    {
     "data": {
      "image/png": "[encoded data removed]",
      "text/plain": [
       "<Figure size 640x480 with 1 Axes>"
      ]
     },
     "metadata": {},
     "output_type": "display_data"
    }
   ],
   "source": [
    "sns.boxplot(x='Purchased', y='EstimatedSalary', data=df)\n",
    "plt.title('Estimated Salary vs Purchased')\n",
    "plt.show()\n"
   ]
  },
  {
   "cell_type": "code",
   "execution_count": 23,
   "id": "34a6c951-7d44-4e1b-b3c3-6fd1b49c52e9",
   "metadata": {},
   "outputs": [
    {
     "data": {
      "image/png": "[encoded data removed]",
      "text/plain": [
       "<Figure size 640x480 with 1 Axes>"
      ]
     },
     "metadata": {},
     "output_type": "display_data"
    }
   ],
   "source": [
    "#Categorical variable analysis\n",
    "sns.countplot(x='Gender', hue='Purchased', data=df)\n",
    "plt.title('Purchased by Gender')\n",
    "plt.show()"
   ]
  },
  {
   "cell_type": "markdown",
   "id": "44ae8156-f6ad-40f4-a6c6-f74692154db9",
   "metadata": {},
   "source": [
    "### Step 1: Basic analysis "
   ]
  },
  {
   "cell_type": "code",
   "execution_count": 28,
   "id": "a4fa23f8-7af7-46f6-93c4-0dc22f626a86",
   "metadata": {},
   "outputs": [
    {
     "data": {
      "text/plain": [
       "<pandas.core.groupby.generic.SeriesGroupBy object at 0x000001EA7D43EF50>"
      ]
     },
     "execution_count": 28,
     "metadata": {},
     "output_type": "execute_result"
    }
   ],
   "source": [
    "df.groupby('Gender')['Purchased']"
   ]
  },
  {
   "cell_type": "code",
   "execution_count": 26,
   "id": "7cb23b22-d869-45a4-b9d0-3cf788ee5585",
   "metadata": {},
   "outputs": [
    {
     "data": {
      "text/plain": [
       "Gender\n",
       "Female    0.377451\n",
       "Male      0.336735\n",
       "Name: Purchased, dtype: float64"
      ]
     },
     "execution_count": 26,
     "metadata": {},
     "output_type": "execute_result"
    }
   ],
   "source": [
    "#'Purchased' is the binary outcome (1 = purchased, 0 = not purchased).\n",
    "#Group the data by 'Gender' and calculate the purchase rate for each gender\n",
    "purchase_rate_by_gender = df.groupby('Gender')['Purchased'].mean()\n",
    "purchase_rate_by_gender\n"
   ]
  },
  {
   "cell_type": "code",
   "execution_count": 39,
   "id": "523f5112-12b9-48b9-ab65-b9e660622f3e",
   "metadata": {},
   "outputs": [],
   "source": [
    "#Step 2: Number of males and females in each group\n",
    "gender_summary = df.groupby('Gender')['Purchased'].agg(['count', 'sum'])"
   ]
  },
  {
   "cell_type": "code",
   "execution_count": 40,
   "id": "5b79f529-3b25-4474-9d9b-d72456c211be",
   "metadata": {},
   "outputs": [
    {
     "data": {
      "text/html": [
       "<div>\n",
       "<style scoped>\n",
       "    .dataframe tbody tr th:only-of-type {\n",
       "        vertical-align: middle;\n",
       "    }\n",
       "\n",
       "    .dataframe tbody tr th {\n",
       "        vertical-align: top;\n",
       "    }\n",
       "\n",
       "    .dataframe thead th {\n",
       "        text-align: right;\n",
       "    }\n",
       "</style>\n",
       "<table border=\"1\" class=\"dataframe\">\n",
       "  <thead>\n",
       "    <tr style=\"text-align: right;\">\n",
       "      <th></th>\n",
       "      <th>count</th>\n",
       "      <th>sum</th>\n",
       "    </tr>\n",
       "    <tr>\n",
       "      <th>Gender</th>\n",
       "      <th></th>\n",
       "      <th></th>\n",
       "    </tr>\n",
       "  </thead>\n",
       "  <tbody>\n",
       "    <tr>\n",
       "      <th>Female</th>\n",
       "      <td>204</td>\n",
       "      <td>77</td>\n",
       "    </tr>\n",
       "    <tr>\n",
       "      <th>Male</th>\n",
       "      <td>196</td>\n",
       "      <td>66</td>\n",
       "    </tr>\n",
       "  </tbody>\n",
       "</table>\n",
       "</div>"
      ],
      "text/plain": [
       "        count  sum\n",
       "Gender            \n",
       "Female    204   77\n",
       "Male      196   66"
      ]
     },
     "execution_count": 40,
     "metadata": {},
     "output_type": "execute_result"
    }
   ],
   "source": [
    "gender_summary"
   ]
  },
  {
   "cell_type": "code",
   "execution_count": 41,
   "id": "14dddaec-9dc7-4ae3-b139-f82f14a08086",
   "metadata": {},
   "outputs": [],
   "source": [
    "# Step 3: Perform a hypothesis test - Z-test for proportions\n",
    "# Null Hypothesis (H0): The purchase rate is the same for both groups\n",
    "# Alternative Hypothesis (H1): The purchase rate is different for both groups\n"
   ]
  },
  {
   "cell_type": "code",
   "execution_count": 44,
   "id": "4c5c75ab-6045-45b8-9f6e-107a911e915f",
   "metadata": {},
   "outputs": [],
   "source": [
    "#Separate the 'Purchased' data for each gender into two groups (A = Male, B = Female)\n",
    "purchases_male = df[df['Gender'] == 'Male']['Purchased'].sum()\n",
    "purchases_female = df[df['Gender'] == 'Female']['Purchased'].sum()"
   ]
  },
  {
   "cell_type": "code",
   "execution_count": 45,
   "id": "bf6afb53-40c9-4a43-8051-3f160f58f6af",
   "metadata": {},
   "outputs": [
    {
     "data": {
      "text/plain": [
       "66"
      ]
     },
     "execution_count": 45,
     "metadata": {},
     "output_type": "execute_result"
    }
   ],
   "source": [
    "purchases_male"
   ]
  },
  {
   "cell_type": "code",
   "execution_count": 46,
   "id": "e2151881-757e-49c5-91c9-01fceb2309da",
   "metadata": {},
   "outputs": [
    {
     "data": {
      "text/html": [
       "<div>\n",
       "<style scoped>\n",
       "    .dataframe tbody tr th:only-of-type {\n",
       "        vertical-align: middle;\n",
       "    }\n",
       "\n",
       "    .dataframe tbody tr th {\n",
       "        vertical-align: top;\n",
       "    }\n",
       "\n",
       "    .dataframe thead th {\n",
       "        text-align: right;\n",
       "    }\n",
       "</style>\n",
       "<table border=\"1\" class=\"dataframe\">\n",
       "  <thead>\n",
       "    <tr style=\"text-align: right;\">\n",
       "      <th></th>\n",
       "      <th>User ID</th>\n",
       "      <th>Gender</th>\n",
       "      <th>Age</th>\n",
       "      <th>EstimatedSalary</th>\n",
       "      <th>Purchased</th>\n",
       "    </tr>\n",
       "  </thead>\n",
       "  <tbody>\n",
       "    <tr>\n",
       "      <th>0</th>\n",
       "      <td>15624510</td>\n",
       "      <td>Male</td>\n",
       "      <td>19</td>\n",
       "      <td>19000</td>\n",
       "      <td>0</td>\n",
       "    </tr>\n",
       "    <tr>\n",
       "      <th>1</th>\n",
       "      <td>15810944</td>\n",
       "      <td>Male</td>\n",
       "      <td>35</td>\n",
       "      <td>20000</td>\n",
       "      <td>0</td>\n",
       "    </tr>\n",
       "    <tr>\n",
       "      <th>4</th>\n",
       "      <td>15804002</td>\n",
       "      <td>Male</td>\n",
       "      <td>19</td>\n",
       "      <td>76000</td>\n",
       "      <td>0</td>\n",
       "    </tr>\n",
       "    <tr>\n",
       "      <th>5</th>\n",
       "      <td>15728773</td>\n",
       "      <td>Male</td>\n",
       "      <td>27</td>\n",
       "      <td>58000</td>\n",
       "      <td>0</td>\n",
       "    </tr>\n",
       "    <tr>\n",
       "      <th>8</th>\n",
       "      <td>15600575</td>\n",
       "      <td>Male</td>\n",
       "      <td>25</td>\n",
       "      <td>33000</td>\n",
       "      <td>0</td>\n",
       "    </tr>\n",
       "    <tr>\n",
       "      <th>...</th>\n",
       "      <td>...</td>\n",
       "      <td>...</td>\n",
       "      <td>...</td>\n",
       "      <td>...</td>\n",
       "      <td>...</td>\n",
       "    </tr>\n",
       "    <tr>\n",
       "      <th>390</th>\n",
       "      <td>15807837</td>\n",
       "      <td>Male</td>\n",
       "      <td>48</td>\n",
       "      <td>33000</td>\n",
       "      <td>1</td>\n",
       "    </tr>\n",
       "    <tr>\n",
       "      <th>391</th>\n",
       "      <td>15592570</td>\n",
       "      <td>Male</td>\n",
       "      <td>47</td>\n",
       "      <td>23000</td>\n",
       "      <td>1</td>\n",
       "    </tr>\n",
       "    <tr>\n",
       "      <th>393</th>\n",
       "      <td>15635893</td>\n",
       "      <td>Male</td>\n",
       "      <td>60</td>\n",
       "      <td>42000</td>\n",
       "      <td>1</td>\n",
       "    </tr>\n",
       "    <tr>\n",
       "      <th>396</th>\n",
       "      <td>15706071</td>\n",
       "      <td>Male</td>\n",
       "      <td>51</td>\n",
       "      <td>23000</td>\n",
       "      <td>1</td>\n",
       "    </tr>\n",
       "    <tr>\n",
       "      <th>398</th>\n",
       "      <td>15755018</td>\n",
       "      <td>Male</td>\n",
       "      <td>36</td>\n",
       "      <td>33000</td>\n",
       "      <td>0</td>\n",
       "    </tr>\n",
       "  </tbody>\n",
       "</table>\n",
       "<p>196 rows × 5 columns</p>\n",
       "</div>"
      ],
      "text/plain": [
       "      User ID Gender  Age  EstimatedSalary  Purchased\n",
       "0    15624510   Male   19            19000          0\n",
       "1    15810944   Male   35            20000          0\n",
       "4    15804002   Male   19            76000          0\n",
       "5    15728773   Male   27            58000          0\n",
       "8    15600575   Male   25            33000          0\n",
       "..        ...    ...  ...              ...        ...\n",
       "390  15807837   Male   48            33000          1\n",
       "391  15592570   Male   47            23000          1\n",
       "393  15635893   Male   60            42000          1\n",
       "396  15706071   Male   51            23000          1\n",
       "398  15755018   Male   36            33000          0\n",
       "\n",
       "[196 rows x 5 columns]"
      ]
     },
     "execution_count": 46,
     "metadata": {},
     "output_type": "execute_result"
    }
   ],
   "source": [
    "df[df['Gender'] == 'Male']"
   ]
  },
  {
   "cell_type": "code",
   "execution_count": 49,
   "id": "4a9856b1-06bb-4b61-8c48-a49023b8e00f",
   "metadata": {},
   "outputs": [],
   "source": [
    "n_male = df[df['Gender'] == 'Male']['Purchased'].count()"
   ]
  },
  {
   "cell_type": "code",
   "execution_count": 50,
   "id": "788aac01-10ed-4582-b4a9-77fe41fb45a9",
   "metadata": {},
   "outputs": [
    {
     "data": {
      "text/plain": [
       "196"
      ]
     },
     "execution_count": 50,
     "metadata": {},
     "output_type": "execute_result"
    }
   ],
   "source": [
    "n_male"
   ]
  },
  {
   "cell_type": "code",
   "execution_count": 51,
   "id": "e9d7d782-b7c5-4949-9753-8b5b2c28b239",
   "metadata": {},
   "outputs": [],
   "source": [
    "n_female = df[df['Gender'] == 'Female']['Purchased'].count()"
   ]
  },
  {
   "cell_type": "code",
   "execution_count": 53,
   "id": "bacd88f9-2630-4d87-805f-1dbbe8ef120c",
   "metadata": {},
   "outputs": [
    {
     "data": {
      "text/plain": [
       "204"
      ]
     },
     "execution_count": 53,
     "metadata": {},
     "output_type": "execute_result"
    }
   ],
   "source": [
    "n_female"
   ]
  },
  {
   "cell_type": "code",
   "execution_count": 56,
   "id": "5f6f10f4-57fd-46e1-b43a-31be647162f9",
   "metadata": {},
   "outputs": [],
   "source": [
    "#Rates\n",
    "p_male = purchases_male/n_male\n",
    "p_female = purchases_female/n_female"
   ]
  },
  {
   "cell_type": "code",
   "execution_count": 57,
   "id": "cc3d18da-c8e4-45ad-a66e-c11dc8ed3c4d",
   "metadata": {},
   "outputs": [
    {
     "data": {
      "text/plain": [
       "0.336734693877551"
      ]
     },
     "execution_count": 57,
     "metadata": {},
     "output_type": "execute_result"
    }
   ],
   "source": [
    "p_male"
   ]
  },
  {
   "cell_type": "code",
   "execution_count": 59,
   "id": "259b8a17-64e5-4f42-bff6-1458626d1d47",
   "metadata": {},
   "outputs": [
    {
     "data": {
      "text/plain": [
       "0.37745098039215685"
      ]
     },
     "execution_count": 59,
     "metadata": {},
     "output_type": "execute_result"
    }
   ],
   "source": [
    "p_female"
   ]
  },
  {
   "cell_type": "code",
   "execution_count": 61,
   "id": "4a4d382e-6156-46f8-a26d-a20a42318013",
   "metadata": {},
   "outputs": [],
   "source": [
    "# Pooled probability \n",
    "p_pool = (purchases_male + purchases_female) / (n_male + n_female)"
   ]
  },
  {
   "cell_type": "code",
   "execution_count": 62,
   "id": "57e5b845-a358-46a7-87af-4babba29b5a7",
   "metadata": {},
   "outputs": [
    {
     "data": {
      "text/plain": [
       "0.3575"
      ]
     },
     "execution_count": 62,
     "metadata": {},
     "output_type": "execute_result"
    }
   ],
   "source": [
    "p_pool"
   ]
  },
  {
   "cell_type": "code",
   "execution_count": 63,
   "id": "49c983e7-b853-42e7-b5f8-9ddb32aac32d",
   "metadata": {},
   "outputs": [],
   "source": [
    "# Standard error of the difference between the two proportions\n",
    "SE = np.sqrt(p_pool * (1 - p_pool) * (1/n_male + 1/n_female))"
   ]
  },
  {
   "cell_type": "code",
   "execution_count": 64,
   "id": "8e7f857f-7b82-40d9-b088-38e00d970a3c",
   "metadata": {},
   "outputs": [
    {
     "data": {
      "text/plain": [
       "0.04793596397963707"
      ]
     },
     "execution_count": 64,
     "metadata": {},
     "output_type": "execute_result"
    }
   ],
   "source": [
    "SE"
   ]
  },
  {
   "cell_type": "code",
   "execution_count": null,
   "id": "49ad3805-7a48-4751-bf8f-b01c7056a333",
   "metadata": {},
   "outputs": [],
   "source": [
    "#Perform an independent z-test for proportions\n",
    "# Since 'Purchased' is a binary outcome, we can use a proportions test to compare the two groups"
   ]
  },
  {
   "cell_type": "code",
   "execution_count": 65,
   "id": "b6b005b9-ecab-4805-b38a-fa9c59efb682",
   "metadata": {},
   "outputs": [],
   "source": [
    "# Z-score calculation\n",
    "z_score = (p_male - p_female) / SE"
   ]
  },
  {
   "cell_type": "code",
   "execution_count": 66,
   "id": "680804f0-593f-4373-ad67-222976589f0d",
   "metadata": {},
   "outputs": [
    {
     "data": {
      "text/plain": [
       "-0.8493891252901871"
      ]
     },
     "execution_count": 66,
     "metadata": {},
     "output_type": "execute_result"
    }
   ],
   "source": [
    "z_score"
   ]
  },
  {
   "cell_type": "code",
   "execution_count": 67,
   "id": "829dba57-97a3-4c01-8332-963a7a2d201c",
   "metadata": {},
   "outputs": [],
   "source": [
    "# Calculate p-value from z-score\n",
    "p_value = stats.norm.sf(abs(z_score)) * 2  # Two-tailed test\n"
   ]
  },
  {
   "cell_type": "code",
   "execution_count": 68,
   "id": "d0eaff6b-214d-4a02-88b0-3c22d2b4d176",
   "metadata": {},
   "outputs": [
    {
     "data": {
      "text/plain": [
       "0.3956648022875956"
      ]
     },
     "execution_count": 68,
     "metadata": {},
     "output_type": "execute_result"
    }
   ],
   "source": [
    "p_value"
   ]
  },
  {
   "cell_type": "code",
   "execution_count": 70,
   "id": "a87a25a3-7802-46ca-b693-12baf8fc093e",
   "metadata": {},
   "outputs": [
    {
     "name": "stdout",
     "output_type": "stream",
     "text": [
      "\n",
      "Z-score: -0.85\n",
      "P-value: 0.3957\n"
     ]
    }
   ],
   "source": [
    "print(f\"\\nZ-score: {z_score:.2f}\")\n",
    "print(f\"P-value: {p_value:.4f}\")"
   ]
  },
  {
   "cell_type": "code",
   "execution_count": 73,
   "id": "31a0a917-14bc-42a8-8d61-35b377732097",
   "metadata": {},
   "outputs": [
    {
     "name": "stdout",
     "output_type": "stream",
     "text": [
      "\n",
      "Fail to reject the null hypothesis: The purchase rate is the different for both groups\n"
     ]
    }
   ],
   "source": [
    "# Step 4: Conclusion\n",
    "alpha = 0.05  # significance level\n",
    "if p_value < alpha:\n",
    "    print(\"\\nReject the null hypothesis:  There is a significant difference between the purchase rates of males and females.\")\n",
    "else:\n",
    "   print(\"\\nFail to reject the null hypothesis: \")"
   ]
  },
  {
   "cell_type": "code",
   "execution_count": null,
   "id": "1af5a137-eaec-4359-adee-a9fb0ee48b96",
   "metadata": {},
   "outputs": [],
   "source": []
  }
 ],
 "metadata": {
  "kernelspec": {
   "display_name": "Python 3 (ipykernel)",
   "language": "python",
   "name": "python3"
  },
  "language_info": {
   "codemirror_mode": {
    "name": "ipython",
    "version": 3
   },
   "file_extension": ".py",
   "mimetype": "text/x-python",
   "name": "python",
   "nbconvert_exporter": "python",
   "pygments_lexer": "ipython3",
   "version": "3.11.7"
  }
 },
 "nbformat": 4,
 "nbformat_minor": 5
}
